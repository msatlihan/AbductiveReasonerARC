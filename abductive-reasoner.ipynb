{
 "cells": [
  {
   "cell_type": "code",
   "execution_count": 1,
   "metadata": {},
   "outputs": [],
   "source": [
    "from utils.reason import AbductiveReasoner\n",
    "from utils.kernel import KernelD1K9, KernelD2K25\n",
    "from utils.memory import MemoryLTVHR, MemoryLTVR, MemoryLTVHR2N"
   ]
  },
  {
   "cell_type": "code",
   "execution_count": 2,
   "metadata": {},
   "outputs": [],
   "source": [
    "# configuration\n",
    "\n",
    "config = {\n",
    "        \"dataset\": \"data/dataset\",\n",
    "        \"observation_walk_directions\": [\"btlr\"],\n",
    "        \"prediction_walk_directions\": [\"btlr\"],\n",
    "        \"color_frequency_threshold\": 2,\n",
    "        \"frequency_threshold\": 2,\n",
    "        \"combination_r_min\": 1,\n",
    "        \"combination_r_max\": 3,\n",
    "        \"num_observation_loops\": 1,\n",
    "        \"num_inference_loops\": 1,\n",
    "        \"visualize_prediction\": False\n",
    "    }"
   ]
  },
  {
   "cell_type": "markdown",
   "metadata": {},
   "source": [
    "## First Example"
   ]
  },
  {
   "cell_type": "code",
   "execution_count": 3,
   "metadata": {},
   "outputs": [],
   "source": [
    "file_name = \"db3e9e38\"  # first example"
   ]
  },
  {
   "cell_type": "code",
   "execution_count": 4,
   "metadata": {},
   "outputs": [],
   "source": [
    "kernel = KernelD1K9()  # kernel to get nearest neighbours and the cell in question as the features.\n",
    "\n",
    "reasoner = AbductiveReasoner(kernel, config)\n",
    "reasoner.init_task(file_name)"
   ]
  },
  {
   "cell_type": "code",
   "execution_count": 5,
   "metadata": {},
   "outputs": [],
   "source": [
    "reasoner.observe()\n",
    "\n",
    "observations = reasoner.create_observation_df(is_sorted=True)\n",
    "observations.to_csv(\"data/outputs/observations.csv\", index=False)  # observations output"
   ]
  },
  {
   "cell_type": "code",
   "execution_count": 6,
   "metadata": {},
   "outputs": [],
   "source": [
    "reasoner.reason()  # generate explanations\n",
    "\n",
    "explanations = reasoner.create_explanation_df(is_sorted=True)\n",
    "explanations.to_csv(\"data/outputs/explanations.csv\", index=False)  # explanations output"
   ]
  },
  {
   "cell_type": "code",
   "execution_count": 7,
   "metadata": {},
   "outputs": [
    {
     "data": {
      "image/png": "[encoded data removed]",
      "text/plain": [
       "<Figure size 432x2304 with 3 Axes>"
      ]
     },
     "metadata": {
      "needs_background": "light"
     },
     "output_type": "display_data"
    }
   ],
   "source": [
    "prediction, scores = reasoner.predict(visualize=True)"
   ]
  },
  {
   "cell_type": "code",
   "execution_count": null,
   "metadata": {},
   "outputs": [],
   "source": []
  },
  {
   "cell_type": "markdown",
   "metadata": {},
   "source": [
    "## Second Example"
   ]
  },
  {
   "cell_type": "code",
   "execution_count": 8,
   "metadata": {},
   "outputs": [],
   "source": [
    "file_name = \"45737921\"  # second example"
   ]
  },
  {
   "cell_type": "markdown",
   "metadata": {},
   "source": [
    "### a) Without the memory and color abstraction implementation "
   ]
  },
  {
   "cell_type": "code",
   "execution_count": 9,
   "metadata": {},
   "outputs": [
    {
     "data": {
      "image/png": "[encoded data removed]",
      "text/plain": [
       "<Figure size 432x2304 with 3 Axes>"
      ]
     },
     "metadata": {
      "needs_background": "light"
     },
     "output_type": "display_data"
    }
   ],
   "source": [
    "kernel = KernelD1K9()\n",
    "\n",
    "reasoner = AbductiveReasoner(kernel, config)\n",
    "\n",
    "reasoner.init_task(file_name)\n",
    "\n",
    "reasoner.observe()\n",
    "reasoner.reason()\n",
    "\n",
    "prediction, scores = reasoner.predict(visualize=True)"
   ]
  },
  {
   "cell_type": "markdown",
   "metadata": {},
   "source": [
    "### b) With the memory and color abstraction implementation"
   ]
  },
  {
   "cell_type": "code",
   "execution_count": 10,
   "metadata": {},
   "outputs": [
    {
     "data": {
      "image/png": "[encoded data removed]",
      "text/plain": [
       "<Figure size 432x2304 with 3 Axes>"
      ]
     },
     "metadata": {
      "needs_background": "light"
     },
     "output_type": "display_data"
    }
   ],
   "source": [
    "memory = MemoryLTVHR(max_len=6) #  Memory with absolute vertical and horizontal walk, \n",
    "                                # R implies a reset on each step\n",
    "\n",
    "kernel = KernelD1K9(memory)\n",
    "\n",
    "reasoner = AbductiveReasoner(kernel, config)\n",
    "reasoner.init_task(file_name)\n",
    "\n",
    "reasoner.observe()\n",
    "\n",
    "observations = reasoner.create_observation_df(is_sorted=True)\n",
    "observations.to_csv(\"data/outputs/observations2.csv\", index=False)\n",
    "\n",
    "reasoner.reason()\n",
    "\n",
    "explanations = reasoner.create_explanation_df(is_sorted=True)\n",
    "explanations.to_csv(\"data/outputs/explanations2.csv\", index=False)\n",
    "\n",
    "reasoner.explain_color() #  eplain color (color abstraction)\n",
    "color_explanations = reasoner.create_explanation_df(is_sorted=True, is_color=True)\n",
    "color_explanations.to_csv(\"data/outputs/color_explanations2.csv\", index=False) #  color explanation output\n",
    "\n",
    "prediction, scores = reasoner.predict(visualize=True)"
   ]
  },
  {
   "cell_type": "code",
   "execution_count": null,
   "metadata": {},
   "outputs": [],
   "source": []
  }
 ],
 "metadata": {
  "kernelspec": {
   "display_name": "Python 3",
   "language": "python",
   "name": "python3"
  },
  "language_info": {
   "codemirror_mode": {
    "name": "ipython",
    "version": 3
   },
   "file_extension": ".py",
   "mimetype": "text/x-python",
   "name": "python",
   "nbconvert_exporter": "python",
   "pygments_lexer": "ipython3",
   "version": "3.6.10"
  }
 },
 "nbformat": 4,
 "nbformat_minor": 4
}
